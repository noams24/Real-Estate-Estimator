{
 "cells": [
  {
   "attachments": {},
   "cell_type": "markdown",
   "metadata": {},
   "source": [
    "# Finding the cap rate of each row"
   ]
  },
  {
   "cell_type": "code",
   "execution_count": 1,
   "metadata": {},
   "outputs": [],
   "source": [
    "import joblib\n",
    "import pandas as pd\n",
    "from sklearn.preprocessing import LabelEncoder\n",
    "import numpy as np\n",
    "import math"
   ]
  },
  {
   "attachments": {},
   "cell_type": "markdown",
   "metadata": {},
   "source": [
    "## load models"
   ]
  },
  {
   "cell_type": "code",
   "execution_count": 2,
   "metadata": {},
   "outputs": [],
   "source": [
    "sales_model = joblib.load('../models/sales_predict.pkl')\n",
    "rent_model = joblib.load('../models/rent_predict.pkl')"
   ]
  },
  {
   "attachments": {},
   "cell_type": "markdown",
   "metadata": {},
   "source": [
    "## load dataset"
   ]
  },
  {
   "cell_type": "code",
   "execution_count": 3,
   "metadata": {},
   "outputs": [],
   "source": [
    "df = pd.read_csv('../tables/sales.csv')"
   ]
  },
  {
   "attachments": {},
   "cell_type": "markdown",
   "metadata": {},
   "source": [
    "## preprocces"
   ]
  },
  {
   "cell_type": "code",
   "execution_count": 4,
   "metadata": {},
   "outputs": [],
   "source": [
    "df = df.drop(columns=['neighborhood'])\n",
    "df = df.dropna()\n",
    "df = df.drop_duplicates()\n",
    "not_to_small = df[\"house_area\"] > 15\n",
    "not_to_big = df[\"house_area\"] < 500\n",
    "garden_not_to_big = df[\"garden_area\"] < 1000\n",
    "garden_not_to_small = df[\"garden_area\"] >= 0\n",
    "furniture = df[\"furniture\"] < 2\n",
    "\n",
    "df = df.where(not_to_small & not_to_big & garden_not_to_big & garden_not_to_small & furniture).dropna()\n",
    "not_to_cheap = df[\"price\"] > 200000\n",
    "not_to_expensive= df[\"price\"] < 15000000\n",
    "df = df.where(not_to_cheap & not_to_expensive).dropna()\n",
    "not_to_little_rooms = df[\"rooms\"] >= 2\n",
    "not_to_many_rooms = df[\"rooms\"] <= 10\n",
    "df = df.where ( not_to_little_rooms & not_to_little_rooms ).dropna()\n",
    "df['house type'] = df['house type'].str.replace('&nbsp;', '')\n",
    "df['house type'] = df['house type'].str.replace('/קוטג', '')\n",
    "df['house type'] = df['house type'].str.replace(\"'\", '')\n",
    "\n",
    "types_to_keep = ['דירה', 'בית פרטי', 'דירת גן', 'גג/פנטהאוז', 'דו משפחתי', 'דופלקס', 'פרטי']\n",
    "df = df[df['house type'].isin(types_to_keep)]\n",
    "\n",
    "list_to_replace = ['דירה', 'בית פרטי', 'דירת גן', 'גג/פנטהאוז', 'דו משפחתי', 'דופלקס', 'פרטי']\n",
    "replce_with = ['apartment', 'private house', 'garden apartment', 'penthouse', 'dual family', 'duplex', 'private house' ]\n",
    "df = df.replace(to_replace =list_to_replace, value =replce_with)\n",
    "\n",
    "city_counts = df['city'].value_counts()\n",
    "top_10_cities = city_counts.head(10)\n",
    "top_cities_list = top_10_cities.index.tolist()\n",
    "df = df[df['city'].isin(top_cities_list)]\n",
    "list_to_replace = ['תל אביב יפו', 'ירושלים', 'חיפה', 'באר שבע', 'רמת גן', 'נתניה', 'פתח תקווה', 'ראשון לציון', 'אשדוד', 'אשקלון']\n",
    "replce_with = ['tel aviv', 'jerusalem', 'haifa', 'beer sheva', 'ramat gan', 'natanya', 'petah tikva', 'rishon lezion', 'ashdod', 'ashkelon']\n",
    "df = df.replace(to_replace =list_to_replace, value =replce_with)\n",
    "\n",
    "le1 = LabelEncoder()\n",
    "le2 = LabelEncoder()\n",
    "df['city'] = le1.fit_transform(df['city'])\n",
    "df['house type'] = le2.fit_transform(df['house type'])\n",
    "\n",
    "X = df.drop('price', axis=1)\n",
    "y = np.log(df['price'])"
   ]
  },
  {
   "attachments": {},
   "cell_type": "markdown",
   "metadata": {},
   "source": [
    "### predict the rent price and cap rate, add to the new csv file"
   ]
  },
  {
   "cell_type": "code",
   "execution_count": 5,
   "metadata": {},
   "outputs": [],
   "source": [
    "rent_price = []\n",
    "cap_rate = []"
   ]
  },
  {
   "cell_type": "code",
   "execution_count": 6,
   "metadata": {},
   "outputs": [],
   "source": [
    "def predict_rows(model, row_index):\n",
    "    selected_row = X.iloc[row_index]\n",
    "    temp_df = pd.DataFrame(selected_row).T\n",
    "    temp_df = temp_df.reset_index(drop=True)\n",
    "    rent_predicted_price = model.predict(temp_df)\n",
    "    rent_predicted_price = round(math.exp(rent_predicted_price[0]))\n",
    "    sale_price = df['price'].iloc[row_index]\n",
    "    new_cap_rate = (rent_predicted_price * 12 * 100)/sale_price\n",
    "    new_cap_rate = '{:.3f}'.format(round(new_cap_rate, 5))\n",
    "    rent_price.append(rent_predicted_price)\n",
    "    cap_rate.append(new_cap_rate)"
   ]
  },
  {
   "cell_type": "code",
   "execution_count": 7,
   "metadata": {},
   "outputs": [
    {
     "name": "stderr",
     "output_type": "stream",
     "text": [
      "100%|██████████| 35974/35974 [04:31<00:00, 132.54it/s]\n"
     ]
    }
   ],
   "source": [
    "from tqdm import tqdm\n",
    "for i in tqdm(range(len(X))):\n",
    "    predict_rows(rent_model, i)"
   ]
  },
  {
   "cell_type": "code",
   "execution_count": 8,
   "metadata": {},
   "outputs": [],
   "source": [
    "final_csv = df.copy()\n",
    "final_csv['rent price'] = rent_price\n",
    "final_csv['cap rate'] = cap_rate"
   ]
  },
  {
   "cell_type": "code",
   "execution_count": 9,
   "metadata": {},
   "outputs": [
    {
     "name": "stdout",
     "output_type": "stream",
     "text": [
      "         city house type  house_area  garden_area  rooms  balconies  \\\n",
      "0    tel aviv  apartment        85.0          0.0    4.0        0.0   \n",
      "2    tel aviv  apartment       102.0          0.0    4.0        1.0   \n",
      "3  beer sheva  apartment        60.0          0.0    3.5        1.0   \n",
      "4  beer sheva  apartment       202.0          0.0    5.0        2.0   \n",
      "6   ramat gan  apartment        87.0          0.0    3.0        3.0   \n",
      "\n",
      "   air_condition  parking  protected_room  elevator  renovated  furniture  \\\n",
      "0            1.0      0.0             1.0       1.0        1.0        0.0   \n",
      "2            1.0      0.0             0.0       1.0        0.0        1.0   \n",
      "3            1.0      1.0             0.0       0.0        1.0        0.0   \n",
      "4            1.0      1.0             1.0       1.0        1.0        0.0   \n",
      "6            1.0      0.0             0.0       0.0        1.0        0.0   \n",
      "\n",
      "   accessibility  bars  storage      price  rent price cap rate  \n",
      "0            1.0   0.0      0.0  4690000.0        8479    2.169  \n",
      "2            0.0   0.0      0.0  5500000.0       10517    2.295  \n",
      "3            1.0   1.0      0.0   777000.0        2435    3.761  \n",
      "4            1.0   0.0      1.0  2600000.0        5782    2.669  \n",
      "6            0.0   0.0      0.0  2650000.0        6293    2.850  \n"
     ]
    }
   ],
   "source": [
    "final_csv['city'] = le1.inverse_transform(final_csv['city'])\n",
    "final_csv['house type'] = le2.inverse_transform(final_csv['house type'])\n",
    "print(final_csv.head())"
   ]
  },
  {
   "cell_type": "code",
   "execution_count": 10,
   "metadata": {},
   "outputs": [],
   "source": [
    "final_csv.to_csv('../tables/final_csv.csv', index=False)"
   ]
  },
  {
   "cell_type": "code",
   "execution_count": 11,
   "metadata": {},
   "outputs": [],
   "source": [
    "cities_encoder = {}\n",
    "for name in replce_with:\n",
    "    cities_encoder[name] = le1.transform([name])[0]"
   ]
  },
  {
   "cell_type": "code",
   "execution_count": 13,
   "metadata": {},
   "outputs": [],
   "source": [
    "house_types = ['apartment', 'private house', 'garden apartment', 'dual family', 'duplex', 'private house', 'penthouse']\n",
    "house_type_encoder = {}\n",
    "for name in house_types:\n",
    "    house_type_encoder[name] = le2.transform([name])[0]"
   ]
  },
  {
   "cell_type": "code",
   "execution_count": 14,
   "metadata": {},
   "outputs": [
    {
     "name": "stdout",
     "output_type": "stream",
     "text": [
      "{'apartment': 0, 'private house': 5, 'garden apartment': 3, 'dual family': 1, 'duplex': 2, 'penthouse': 4}\n"
     ]
    }
   ],
   "source": [
    "print(house_type_encoder)"
   ]
  }
 ],
 "metadata": {
  "kernelspec": {
   "display_name": "base",
   "language": "python",
   "name": "python3"
  },
  "language_info": {
   "codemirror_mode": {
    "name": "ipython",
    "version": 3
   },
   "file_extension": ".py",
   "mimetype": "text/x-python",
   "name": "python",
   "nbconvert_exporter": "python",
   "pygments_lexer": "ipython3",
   "version": "3.10.9"
  },
  "orig_nbformat": 4
 },
 "nbformat": 4,
 "nbformat_minor": 2
}
