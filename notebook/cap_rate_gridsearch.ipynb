{
 "cells": [
  {
   "attachments": {},
   "cell_type": "markdown",
   "metadata": {},
   "source": [
    "# Find the best Cap rates"
   ]
  },
  {
   "attachments": {},
   "cell_type": "markdown",
   "metadata": {},
   "source": [
    "## load the models"
   ]
  },
  {
   "cell_type": "code",
   "execution_count": 1,
   "metadata": {},
   "outputs": [],
   "source": [
    "import joblib\n",
    "import pandas as pd"
   ]
  },
  {
   "cell_type": "code",
   "execution_count": 2,
   "metadata": {},
   "outputs": [],
   "source": [
    "\n",
    "sales_model = joblib.load('../models/sales_predict.pkl')\n",
    "rent_model = joblib.load('../models/rent_predict.pkl')"
   ]
  },
  {
   "attachments": {},
   "cell_type": "markdown",
   "metadata": {},
   "source": [
    "### The parameters for gridsearch"
   ]
  },
  {
   "cell_type": "code",
   "execution_count": 3,
   "metadata": {},
   "outputs": [],
   "source": [
    "params = {'city': list(range(9)), 'house type' : list(range(5)), 'house_area': [50,100,150,200,300,400], 'garden_area': [0,50,100,200],\n",
    "           'rooms': list(range(2,9)), 'balconies':[0,1,2,3], 'air_condition': [0,1], 'parking': [0,1], 'protected_room': [0,1], 'elevator':[0,1], \n",
    "           'renovated':[0,1], 'furniture':[0,1],'accessibility':[0,1],'bars':[0,1],'storage':[0,1]}"
   ]
  },
  {
   "cell_type": "code",
   "execution_count": 4,
   "metadata": {},
   "outputs": [
    {
     "name": "stdout",
     "output_type": "stream",
     "text": [
      "city [0, 1, 2, 3, 4, 5, 6, 7, 8]\n",
      "house type [0, 1, 2, 3, 4]\n",
      "house_area [50, 100, 150, 200, 300, 400]\n",
      "garden_area [0, 50, 100, 200]\n",
      "rooms [2, 3, 4, 5, 6, 7, 8]\n",
      "balconies [0, 1, 2, 3]\n",
      "air_condition [0, 1]\n",
      "parking [0, 1]\n",
      "protected_room [0, 1]\n",
      "elevator [0, 1]\n",
      "renovated [0, 1]\n",
      "furniture [0, 1]\n",
      "accessibility [0, 1]\n",
      "bars [0, 1]\n",
      "storage [0, 1]\n"
     ]
    }
   ],
   "source": [
    "for k, v in params.items():\n",
    "    print(k,v)"
   ]
  },
  {
   "cell_type": "code",
   "execution_count": 5,
   "metadata": {},
   "outputs": [],
   "source": [
    "result = pd.DataFrame(columns=['city', 'house type', 'house_area', 'garden_area',\n",
    "           'rooms', 'balconies', 'air_condition', 'parking', 'protected_room', 'elevator', \n",
    "           'renovated', 'furniture','accessibility','bars','storage', 'predicted_sale_price', 'predicted_rent_price', 'cap_rate'])"
   ]
  },
  {
   "cell_type": "code",
   "execution_count": 7,
   "metadata": {},
   "outputs": [
    {
     "name": "stdout",
     "output_type": "stream",
     "text": [
      "62\n"
     ]
    }
   ],
   "source": [
    "count = 9\n",
    "for k, v in params.items():\n",
    "    for i in v:\n",
    "        count+=1\n",
    "        #print(i)\n",
    "print(count)"
   ]
  },
  {
   "cell_type": "code",
   "execution_count": 9,
   "metadata": {},
   "outputs": [
    {
     "name": "stderr",
     "output_type": "stream",
     "text": [
      "C:\\Users\\noams\\AppData\\Local\\Temp\\ipykernel_6912\\924480459.py:29: FutureWarning: The frame.append method is deprecated and will be removed from pandas in a future version. Use pandas.concat instead.\n",
      "  df = df.append(new_row, ignore_index=True)\n"
     ]
    },
    {
     "name": "stdout",
     "output_type": "stream",
     "text": [
      "       city house type house_area garden_area rooms balconies air_condition  \\\n",
      "0  New City   Detached       1500         800     4         2          True   \n",
      "\n",
      "  parking protected_room elevator renovated furniture accessibility   bars  \\\n",
      "0    True          False     True     False      True          True  False   \n",
      "\n",
      "  storage predicted_sale_price predicted_rent_price  cap_rate  \n",
      "0    True               300000                 2000      0.08  \n"
     ]
    }
   ],
   "source": [
    "def add_row():\n",
    "    new_row = {\n",
    "        'city': 'New City',\n",
    "        'house type': 'Detached',\n",
    "        'house_area': 1500,\n",
    "        'garden_area': 800,\n",
    "        'rooms': 4,\n",
    "        'balconies': 2,\n",
    "        'air_condition': True,\n",
    "        'parking': True,\n",
    "        'protected_room': False,\n",
    "        'elevator': True,\n",
    "        'renovated': False,\n",
    "        'furniture': True,\n",
    "        'accessibility': True,\n",
    "        'bars': False,\n",
    "        'storage': True,\n",
    "        'predicted_sale_price': 300000,\n",
    "        'predicted_rent_price': 2000,\n",
    "        'cap_rate': 0.08\n",
    "    }\n",
    "    df = df.append(new_row, ignore_index=True)"
   ]
  },
  {
   "cell_type": "code",
   "execution_count": 4,
   "metadata": {},
   "outputs": [
    {
     "name": "stdout",
     "output_type": "stream",
     "text": [
      "(1, 4, 6)\n",
      "(1, 4, 7)\n",
      "(1, 4, 8)\n",
      "(1, 5, 6)\n",
      "(1, 5, 7)\n",
      "(1, 5, 8)\n",
      "(2, 4, 6)\n",
      "(2, 4, 7)\n",
      "(2, 4, 8)\n",
      "(2, 5, 6)\n",
      "(2, 5, 7)\n",
      "(2, 5, 8)\n",
      "(3, 4, 6)\n",
      "(3, 4, 7)\n",
      "(3, 4, 8)\n",
      "(3, 5, 6)\n",
      "(3, 5, 7)\n",
      "(3, 5, 8)\n"
     ]
    }
   ],
   "source": [
    "from itertools import product\n",
    "\n",
    "# List of lists of integers\n",
    "lists = [[1, 2, 3], [4, 5], [6, 7, 8]]\n",
    "\n",
    "# Get all permutations\n",
    "permutations = list(product(*lists))\n",
    "\n",
    "# Print permutations\n",
    "for perm in permutations:\n",
    "    print(perm)"
   ]
  },
  {
   "cell_type": "code",
   "execution_count": 11,
   "metadata": {},
   "outputs": [],
   "source": [
    "params =[list(range(10)), list(range(7)), [50,100,150,200,250,300,350,400], [0,50,100,150,200,250,300],\n",
    "           list(range(2,10)), [0,1,2,3], [0,1], [0,1], [0,1],[0,1], [0,1], [0,1],[0,1],[0,1],[0,1]]\n",
    "\n",
    "permutations = list(product(*params))\n",
    "print(len(permutations))\n",
    "# Print permutations\n",
    "for perm in permutations:\n",
    "    print(perm)\n",
    "    "
   ]
  },
  {
   "cell_type": "code",
   "execution_count": null,
   "metadata": {},
   "outputs": [],
   "source": []
  }
 ],
 "metadata": {
  "kernelspec": {
   "display_name": "base",
   "language": "python",
   "name": "python3"
  },
  "language_info": {
   "codemirror_mode": {
    "name": "ipython",
    "version": 3
   },
   "file_extension": ".py",
   "mimetype": "text/x-python",
   "name": "python",
   "nbconvert_exporter": "python",
   "pygments_lexer": "ipython3",
   "version": "3.10.9"
  },
  "orig_nbformat": 4
 },
 "nbformat": 4,
 "nbformat_minor": 2
}
